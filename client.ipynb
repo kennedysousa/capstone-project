{
 "cells": [
  {
   "cell_type": "markdown",
   "metadata": {},
   "source": [
    "# Capstone Project\n",
    "## Machine Learning Engineer Nanodegree\n",
    "___\n",
    "### Kennedy Sousa\n",
    "December 23th, 2017\n",
    "\n",
    "\n",
    "Bank ACME’s Office of Compliance is a department responsible for monitoring the activities and conduct of employees: whenever an irregularity is detected, the bank must analyze whether the irregularity stems from misconduct or weaknesses in the process, in order to mitigate the operational risk and apply the penalty to those involved, if applicable, including possible compensation for financial losses. \n",
    "\n",
    "The procedure starts with a process called preliminary analysis that consists in an investigation and aims to gather information about the issue, like authorship, which rule was broken, description of the facts, value involved, etc. After all the relevant information is gathered, the final report and the chain of evidence are sent to decision-making authority for deliberation. If the case is admitted, the indictee becomes defendant and is subject to penalties like written reprimand, suspension and discharge. \n",
    "\n",
    "This project addresses the real world problem of identifying whether the case will be admitted or not, based in some multiple-choice fields filled in the report. \n",
    "\n",
    "\n",
    "<div class=\"alert alert-block alert-info\">In order to avoid server scripting languages as PHP or ASP.NET this notebook implements the client side to help us during the tests.</div>\n"
   ]
  },
  {
   "cell_type": "markdown",
   "metadata": {},
   "source": [
    "### Step 1 - Loading libraries\n",
    "\n",
    "Run the cell below to import the necessary libraries and set the header to send and accept json responses."
   ]
  },
  {
   "cell_type": "code",
   "execution_count": 1,
   "metadata": {
    "collapsed": true
   },
   "outputs": [],
   "source": [
    "import pandas as pd\n",
    "import json\n",
    "import requests\n",
    "from IPython.display import display\n",
    "\n",
    "\"\"\"\n",
    "Setting the headers to send and accept json responses\n",
    "\"\"\"\n",
    "\n",
    "header = {'Content-Type': 'application/json', 'Accept': 'application/json'}"
   ]
  },
  {
   "cell_type": "markdown",
   "metadata": {},
   "source": [
    "### Step 2 - Loading data\n",
    "\n",
    "The following cell loads and shows the first rows of the provided test file. "
   ]
  },
  {
   "cell_type": "code",
   "execution_count": 2,
   "metadata": {},
   "outputs": [
    {
     "data": {
      "text/html": [
       "<div>\n",
       "<style>\n",
       "    .dataframe thead tr:only-child th {\n",
       "        text-align: right;\n",
       "    }\n",
       "\n",
       "    .dataframe thead th {\n",
       "        text-align: left;\n",
       "    }\n",
       "\n",
       "    .dataframe tbody tr th {\n",
       "        vertical-align: top;\n",
       "    }\n",
       "</style>\n",
       "<table border=\"1\" class=\"dataframe\">\n",
       "  <thead>\n",
       "    <tr style=\"text-align: right;\">\n",
       "      <th></th>\n",
       "      <th>cd_analise</th>\n",
       "      <th>nu_origem</th>\n",
       "      <th>ic_22</th>\n",
       "      <th>ic_23</th>\n",
       "      <th>ic_231</th>\n",
       "      <th>ic_24</th>\n",
       "      <th>ic_25</th>\n",
       "      <th>ic_26</th>\n",
       "      <th>ic_27</th>\n",
       "      <th>ic_28</th>\n",
       "      <th>...</th>\n",
       "      <th>nu_283_res</th>\n",
       "      <th>ic_29</th>\n",
       "      <th>ic_291_prestador</th>\n",
       "      <th>ic_291_estagiario</th>\n",
       "      <th>ic_291_menor</th>\n",
       "      <th>ic_291_outrosPF</th>\n",
       "      <th>ic_291_PJ</th>\n",
       "      <th>ic_291_naoIndicado</th>\n",
       "      <th>ic_293</th>\n",
       "      <th>ic_210</th>\n",
       "    </tr>\n",
       "  </thead>\n",
       "  <tbody>\n",
       "    <tr>\n",
       "      <th>0</th>\n",
       "      <td>81653</td>\n",
       "      <td>6</td>\n",
       "      <td>2</td>\n",
       "      <td>1</td>\n",
       "      <td>3</td>\n",
       "      <td>1</td>\n",
       "      <td>3</td>\n",
       "      <td>3</td>\n",
       "      <td>3</td>\n",
       "      <td>3</td>\n",
       "      <td>...</td>\n",
       "      <td>0.0</td>\n",
       "      <td>3</td>\n",
       "      <td>0</td>\n",
       "      <td>0</td>\n",
       "      <td>0</td>\n",
       "      <td>0</td>\n",
       "      <td>0</td>\n",
       "      <td>0</td>\n",
       "      <td>0</td>\n",
       "      <td>1</td>\n",
       "    </tr>\n",
       "    <tr>\n",
       "      <th>1</th>\n",
       "      <td>84856</td>\n",
       "      <td>9</td>\n",
       "      <td>2</td>\n",
       "      <td>1</td>\n",
       "      <td>1</td>\n",
       "      <td>1</td>\n",
       "      <td>3</td>\n",
       "      <td>2</td>\n",
       "      <td>1</td>\n",
       "      <td>1</td>\n",
       "      <td>...</td>\n",
       "      <td>0.0</td>\n",
       "      <td>1</td>\n",
       "      <td>1</td>\n",
       "      <td>0</td>\n",
       "      <td>0</td>\n",
       "      <td>0</td>\n",
       "      <td>0</td>\n",
       "      <td>0</td>\n",
       "      <td>1</td>\n",
       "      <td>1</td>\n",
       "    </tr>\n",
       "    <tr>\n",
       "      <th>2</th>\n",
       "      <td>84922</td>\n",
       "      <td>9</td>\n",
       "      <td>2</td>\n",
       "      <td>1</td>\n",
       "      <td>1</td>\n",
       "      <td>1</td>\n",
       "      <td>2</td>\n",
       "      <td>3</td>\n",
       "      <td>3</td>\n",
       "      <td>1</td>\n",
       "      <td>...</td>\n",
       "      <td>0.0</td>\n",
       "      <td>1</td>\n",
       "      <td>0</td>\n",
       "      <td>0</td>\n",
       "      <td>0</td>\n",
       "      <td>1</td>\n",
       "      <td>0</td>\n",
       "      <td>0</td>\n",
       "      <td>3</td>\n",
       "      <td>2</td>\n",
       "    </tr>\n",
       "    <tr>\n",
       "      <th>3</th>\n",
       "      <td>85145</td>\n",
       "      <td>9</td>\n",
       "      <td>2</td>\n",
       "      <td>2</td>\n",
       "      <td>2</td>\n",
       "      <td>2</td>\n",
       "      <td>0</td>\n",
       "      <td>0</td>\n",
       "      <td>0</td>\n",
       "      <td>1</td>\n",
       "      <td>...</td>\n",
       "      <td>0.0</td>\n",
       "      <td>3</td>\n",
       "      <td>0</td>\n",
       "      <td>0</td>\n",
       "      <td>0</td>\n",
       "      <td>0</td>\n",
       "      <td>0</td>\n",
       "      <td>0</td>\n",
       "      <td>0</td>\n",
       "      <td>3</td>\n",
       "    </tr>\n",
       "    <tr>\n",
       "      <th>4</th>\n",
       "      <td>85146</td>\n",
       "      <td>9</td>\n",
       "      <td>2</td>\n",
       "      <td>1</td>\n",
       "      <td>1</td>\n",
       "      <td>1</td>\n",
       "      <td>3</td>\n",
       "      <td>2</td>\n",
       "      <td>2</td>\n",
       "      <td>2</td>\n",
       "      <td>...</td>\n",
       "      <td>0.0</td>\n",
       "      <td>2</td>\n",
       "      <td>0</td>\n",
       "      <td>0</td>\n",
       "      <td>0</td>\n",
       "      <td>0</td>\n",
       "      <td>0</td>\n",
       "      <td>0</td>\n",
       "      <td>0</td>\n",
       "      <td>3</td>\n",
       "    </tr>\n",
       "  </tbody>\n",
       "</table>\n",
       "<p>5 rows × 23 columns</p>\n",
       "</div>"
      ],
      "text/plain": [
       "   cd_analise  nu_origem  ic_22  ic_23  ic_231  ic_24  ic_25  ic_26  ic_27  \\\n",
       "0       81653          6      2      1       3      1      3      3      3   \n",
       "1       84856          9      2      1       1      1      3      2      1   \n",
       "2       84922          9      2      1       1      1      2      3      3   \n",
       "3       85145          9      2      2       2      2      0      0      0   \n",
       "4       85146          9      2      1       1      1      3      2      2   \n",
       "\n",
       "   ic_28   ...    nu_283_res  ic_29  ic_291_prestador  ic_291_estagiario  \\\n",
       "0      3   ...           0.0      3                 0                  0   \n",
       "1      1   ...           0.0      1                 1                  0   \n",
       "2      1   ...           0.0      1                 0                  0   \n",
       "3      1   ...           0.0      3                 0                  0   \n",
       "4      2   ...           0.0      2                 0                  0   \n",
       "\n",
       "   ic_291_menor  ic_291_outrosPF  ic_291_PJ  ic_291_naoIndicado  ic_293  \\\n",
       "0             0                0          0                   0       0   \n",
       "1             0                0          0                   0       1   \n",
       "2             0                1          0                   0       3   \n",
       "3             0                0          0                   0       0   \n",
       "4             0                0          0                   0       0   \n",
       "\n",
       "   ic_210  \n",
       "0       1  \n",
       "1       1  \n",
       "2       2  \n",
       "3       3  \n",
       "4       3  \n",
       "\n",
       "[5 rows x 23 columns]"
      ]
     },
     "metadata": {},
     "output_type": "display_data"
    }
   ],
   "source": [
    "\"\"\"\n",
    "Reading test batch\n",
    "\"\"\"\n",
    "df = pd.read_csv('test_data.csv', sep=';')\n",
    "df = df.head()\n",
    "display(df)"
   ]
  },
  {
   "cell_type": "markdown",
   "metadata": {},
   "source": [
    "### Step 3 - Prepare the request\n",
    "\n",
    "The following cell converts the dataframe to json object to allow us to communicate with the API."
   ]
  },
  {
   "cell_type": "code",
   "execution_count": 3,
   "metadata": {},
   "outputs": [],
   "source": [
    "\"\"\"\n",
    "Converting Pandas Dataframe to json\n",
    "\"\"\"\n",
    "data = df.to_json(orient='records')\n",
    "\n",
    "# Uncomment the next line to see the result\n",
    "# print(data)"
   ]
  },
  {
   "cell_type": "markdown",
   "metadata": {},
   "source": [
    "### Step 4 - Send the request\n",
    "\n",
    "<div class=\"alert alert-block alert-warning\">Make sure the server is running before sending the request.</div>\n",
    "\n",
    "Run the cell bellow to send the data prepared in the previous step to the API endpoint."
   ]
  },
  {
   "cell_type": "code",
   "execution_count": 4,
   "metadata": {
    "collapsed": true
   },
   "outputs": [],
   "source": [
    "resp = requests.post(\"http://0.0.0.0:8000/predict\", data = json.dumps(data), headers = header)"
   ]
  },
  {
   "cell_type": "markdown",
   "metadata": {},
   "source": [
    "### Step 5 - Receiving answers\n",
    "\n",
    "Run the next cell to receive, format and print the answer provided. "
   ]
  },
  {
   "cell_type": "code",
   "execution_count": 5,
   "metadata": {},
   "outputs": [
    {
     "name": "stdout",
     "output_type": "stream",
     "text": [
      "Status code: 200\n",
      "{'predictions': '[{\"0\":81653,\"1\":0},{\"0\":84856,\"1\":1},{\"0\":84922,\"1\":1},{\"0\":85145,\"1\":1},{\"0\":85146,\"1\":1}]'}\n"
     ]
    }
   ],
   "source": [
    "print(\"Status code: {}\".format(resp.status_code))\n",
    "print(resp.json())"
   ]
  }
 ],
 "metadata": {
  "kernelspec": {
   "display_name": "Python 3",
   "language": "python",
   "name": "python3"
  },
  "language_info": {
   "codemirror_mode": {
    "name": "ipython",
    "version": 3
   },
   "file_extension": ".py",
   "mimetype": "text/x-python",
   "name": "python",
   "nbconvert_exporter": "python",
   "pygments_lexer": "ipython3",
   "version": "3.6.2"
  }
 },
 "nbformat": 4,
 "nbformat_minor": 2
}
